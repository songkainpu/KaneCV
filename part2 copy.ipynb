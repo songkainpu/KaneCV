{
 "cells": [
  {
   "cell_type": "markdown",
   "metadata": {},
   "source": [
    "Part 2: Depth from Rectified Stereo Images\n",
    "\n",
    "Write a program to estimate a depth map from the pair of rectified images in Figure 2 using an MRF and multiple label graphcuts.\n",
    "Show your best result and provide some discussion if necessary (particularly if the results are not as good as expected)."
   ]
  },
  {
   "cell_type": "code",
   "execution_count": 1,
   "metadata": {},
   "outputs": [
    {
     "name": "stderr",
     "output_type": "stream",
     "text": [
      "/Users/admin/EE5371/CA2/.venv/lib/python3.10/site-packages/gco/__init__.py:7: FutureWarning: In the future `np.bool` will be defined as the corresponding NumPy scalar.\n",
      "  if not hasattr(numpy, name):\n"
     ]
    }
   ],
   "source": [
    "\n",
    "import numpy\n",
    "import statistics\n",
    "import cv2\n",
    "from functools import cache\n",
    "from gco import pygco\n",
    "from utils import get_logger, INTEGER_MAX_VALUE\n",
    "import matplotlib.image\n",
    "import matplotlib.pyplot\n",
    "import queue\n",
    "import typing\n",
    "import gc"
   ]
  },
  {
   "cell_type": "code",
   "execution_count": 2,
   "metadata": {},
   "outputs": [],
   "source": [
    "# @cache\n",
    "def compute_distance(point1: numpy.ndarray, point2: numpy.ndarray) -> float:\n",
    "    \"\"\"\n",
    "    compute distance of two pixels\n",
    "    Parameters\n",
    "    ----------\n",
    "    point1: ndarray, uint8, shape=(3)\n",
    "        point one\n",
    "    point2: ndarray, uint8, shape=(3)\n",
    "        point two\n",
    "    \"\"\"\n",
    "    # return (abs(point1[0]-point2[0]) + abs(point1[1] - point2[1]) + abs(point1[2] - point2[2]) ) / 3 / 255\n",
    "    # if not dividing 255 as the C pseudocode example, there will be a overflowing of MAX_VALUE of Integer when calling pycgo.cut_grid_graph\n",
    "    return numpy.sum(numpy.abs(point1-point2)) /3\n",
    "def linear_normalize(data: numpy.ndarray) -> numpy.ndarray:\n",
    "    \"\"\"\n",
    "        linear normalize\n",
    "    \"\"\"\n",
    "    min_value = data.min()\n",
    "    max_value = data.max()\n",
    "    normalized_data = (data - min_value) / (max_value - min_value)\n",
    "    return normalized_data\n",
    "\n",
    "def normal_distribution_normalize(data: numpy.ndarray) -> numpy.ndarray:\n",
    "    \"\"\"\n",
    "        normalize by normal distribution\n",
    "    \"\"\"\n",
    "    mean = numpy.mean(data)\n",
    "    std = numpy.std(data)\n",
    "    normalized_data = (data - mean) / std\n",
    "    return normalized_data\n"
   ]
  },
  {
   "cell_type": "code",
   "execution_count": 3,
   "metadata": {},
   "outputs": [],
   "source": [
    "img1: numpy.ndarray = cv2.imread(\"data/rectified_image_1.png\", cv2.IMREAD_COLOR)\n",
    "img1 = cv2.cvtColor(img1, cv2.COLOR_BGR2RGB)\n",
    "height1, width1, _ = img1.shape\n",
    "\n",
    "img2: numpy.ndarray = cv2.imread(\"data/rectified_image_2.png\", cv2.IMREAD_COLOR)\n",
    "img2 = cv2.cvtColor(img2, cv2.COLOR_BGR2RGB)\n",
    "img2 = cv2.resize(img2, (width1, height1))\n",
    "\n",
    "height2, width2, _ = img2.shape\n",
    "row_list: [INTEGER_MAX_VALUE] * width2\n",
    "disparity_by_y: typing.List[int] = []\n",
    "disparity_by_x: typing.List[int] = []\n",
    "for y in range(height1):\n",
    "    # img2: still y\n",
    "    disparity_by_x.clear()\n",
    "    for x1 in range(width1):\n",
    "        pq = queue.PriorityQueue()\n",
    "        for x2 in range(width2):\n",
    "            pixel1 = img1[y, x1]\n",
    "            pixel2 = img2[y, x2]\n",
    "            dis = compute_distance(point1=pixel1, point2=pixel2)\n",
    "            pq.put(item=(dis, x2))\n",
    "        x2_argmin = pq.get()[1]\n",
    "        disparity = abs(x2_argmin - x1)\n",
    "        disparity_by_x.append(disparity)\n",
    "    mode = statistics.mode(disparity_by_x)\n",
    "    disparity_by_y.append(mode)\n",
    "disparity_by_x.clear()"
   ]
  },
  {
   "cell_type": "code",
   "execution_count": 4,
   "metadata": {},
   "outputs": [
    {
     "name": "stdout",
     "output_type": "stream",
     "text": [
      "disparity_by_y:[20, 19, 19, 18, 21, 20, 20, 19, 20, 17, 18, 18, 21, 18, 19, 20, 21, 20, 20, 20, 18, 19, 20, 18, 15, 20, 19, 20, 18, 24, 20, 20, 18, 19, 16, 20, 18, 20, 19, 19, 20, 20, 21, 20, 20, 19, 21, 18, 20, 21, 18, 22, 23, 23, 23, 21, 23, 21, 19, 20, 21, 22, 22, 20, 22, 22, 22, 21, 20, 19, 20, 19, 19, 19, 19, 22, 21, 19, 21, 21, 20, 20, 20, 22, 20, 22, 19, 21, 20, 22, 23, 18, 24, 19, 18, 22, 19, 20, 25, 25, 20, 23, 22, 18, 27, 18, 19, 20, 20, 19, 25, 23, 20, 22, 19, 26, 26, 25, 25, 20, 25, 19, 20, 20, 20, 23, 20, 24, 25, 18, 18, 29, 32, 31, 25, 30, 32, 30, 28, 32, 31, 21, 30, 39, 29, 29, 29, 27, 31, 23, 31, 27, 27, 29, 32, 27, 27, 31, 26, 30, 31, 30, 33, 32, 32, 29, 30, 32, 28, 28, 31, 30, 32, 30, 30, 28, 31, 30, 30, 30, 32, 33, 32, 29, 31, 30, 33, 29, 30, 30, 30, 35, 32, 30, 30, 30, 28, 27, 33, 32, 29, 32, 43, 40, 33, 33, 29, 32, 42, 38, 30, 34, 28, 30, 25, 32, 33, 36, 30, 30, 31, 33, 32, 29, 44, 34, 49, 37, 31, 28, 37, 34, 34, 37, 46, 43, 36, 39, 39, 40, 40, 38, 42, 39, 38, 36, 37, 35, 44, 36, 42, 36, 37, 50, 37, 41, 42, 41, 40, 45, 40, 43, 46, 46, 41, 42, 41, 44, 39, 43, 39, 44, 43, 40, 39, 44, 45, 41, 33, 42, 50, 44, 47, 44, 43, 41, 40, 49, 45, 39, 53, 45, 48, 42, 42, 46, 46, 45, 45, 47, 43, 43, 47, 38, 42, 49, 49, 49, 54, 51, 47, 51, 47, 43, 55, 50, 49, 50, 43, 49, 42, 42, 43, 48, 51, 42, 44, 42, 40, 44, 42, 41, 47, 40, 36, 50, 47, 60, 45, 54, 53, 47, 47, 47, 47, 46, 50, 53, 48, 50, 47, 52, 53, 50, 52, 50, 51, 49, 48, 54, 50, 56, 48, 58, 46, 48, 48, 50, 48, 45, 49, 49, 60, 49, 31]\n",
      "depth_range:0\n"
     ]
    },
    {
     "ename": "ValueError",
     "evalue": "min() arg is an empty sequence",
     "output_type": "error",
     "traceback": [
      "\u001b[0;31m---------------------------------------------------------------------------\u001b[0m",
      "\u001b[0;31mValueError\u001b[0m                                Traceback (most recent call last)",
      "\u001b[1;32m/Users/admin/EE5371/CA2/part2 copy.ipynb 儲存格 5\u001b[0m line \u001b[0;36m2\n\u001b[1;32m     <a href='vscode-notebook-cell:/Users/admin/EE5371/CA2/part2%20copy.ipynb#W4sZmlsZQ%3D%3D?line=25'>26</a>\u001b[0m             \u001b[39mfor\u001b[39;00m pixel2 \u001b[39min\u001b[39;00m img2_matched:\n\u001b[1;32m     <a href='vscode-notebook-cell:/Users/admin/EE5371/CA2/part2%20copy.ipynb#W4sZmlsZQ%3D%3D?line=26'>27</a>\u001b[0m                 disparity_by_x\u001b[39m.\u001b[39mappend(compute_distance(point1\u001b[39m=\u001b[39mimg1[y,x], point2\u001b[39m=\u001b[39mpixel2))\n\u001b[0;32m---> <a href='vscode-notebook-cell:/Users/admin/EE5371/CA2/part2%20copy.ipynb#W4sZmlsZQ%3D%3D?line=27'>28</a>\u001b[0m             unary_cost[y, x, i] \u001b[39m=\u001b[39m \u001b[39mmin\u001b[39;49m(disparity_by_x) \u001b[39m/\u001b[39m\u001b[39m3\u001b[39m \u001b[39m/\u001b[39m \u001b[39m255\u001b[39m\n\u001b[1;32m     <a href='vscode-notebook-cell:/Users/admin/EE5371/CA2/part2%20copy.ipynb#W4sZmlsZQ%3D%3D?line=28'>29</a>\u001b[0m \u001b[39m# unary_cost = linear_normalize(data=unary_cost)\u001b[39;00m\n\u001b[1;32m     <a href='vscode-notebook-cell:/Users/admin/EE5371/CA2/part2%20copy.ipynb#W4sZmlsZQ%3D%3D?line=29'>30</a>\u001b[0m unary_cost \u001b[39m*\u001b[39m\u001b[39m=\u001b[39m depth_range\n",
      "\u001b[0;31mValueError\u001b[0m: min() arg is an empty sequence"
     ]
    }
   ],
   "source": [
    "print(f\"disparity_by_y:{disparity_by_y}\")\n",
    "tem = img1\n",
    "img1 = img2\n",
    "img2 = tem\n",
    "depth_min = min(disparity_by_y)\n",
    "depth_max = max(disparity_by_y)\n",
    "depth_max= 64\n",
    "# todo: change to list\n",
    "# STEPS:typing.List[int] = [20,15, 5,6,7,8,9,10]\n",
    "STEPS:typing.List[int] = [50]\n",
    "# STEPS:typing.List[int] = [5,6,7]\n",
    "for STEP in STEPS:\n",
    "# STEP = 5\n",
    "    depth_range = (depth_max - depth_min) // STEP\n",
    "    print(f\"depth_range:{depth_range}\")\n",
    "    unary_cost: numpy.ndarray = numpy.zeros(shape=(height1, width1, STEP), dtype=numpy.float64)\n",
    "    for y in range(height1):\n",
    "        for x in range(width1):\n",
    "            x2_start = min(width1 - 1, x + depth_min)\n",
    "            x2_end = min(width1, x2_start + depth_range)\n",
    "            for i in range(STEP):\n",
    "                img2_matched = img2[y, x2_start: x2_end]\n",
    "                x2_start = min(width1 - 1, x2_start + depth_range)\n",
    "                x2_end = min(width1, x2_start + depth_range)\n",
    "                disparity_by_x.clear()\n",
    "                for pixel2 in img2_matched:\n",
    "                    disparity_by_x.append(compute_distance(point1=img1[y,x], point2=pixel2))\n",
    "                unary_cost[y, x, i] = min(disparity_by_x) /3 / 255\n",
    "    # unary_cost = linear_normalize(data=unary_cost)\n",
    "    unary_cost *= depth_range\n",
    "    # print(f\"unary_cost:{unary_cost}\")\n",
    "    unary_cost = unary_cost[:, : width1-depth_max, :]\n",
    "    i = numpy.arange(STEP, dtype=numpy.int32)\n",
    "    j = numpy.arange(STEP, dtype=numpy.int32)\n",
    "    fp = numpy.abs(i[: , numpy.newaxis] - j)\n",
    "    # LAMBDAS = [0.005, 0.006, 0.007, 0.01,0.02,0.03, 0.04, 0.05, 0.06,0.07,0.08,0.09,0.10]\n",
    "    LAMBDAS = [0.001, 0.002, 0.003, 0.004,0.005, 0.01, 0.02, 0.03, 0.04, 0.045, 0.05, 0.055, 0.06,0.07,0.08,0.09,0.1]\n",
    "    lam = 0.03\n",
    "    # for lam in LAMBDAS:\n",
    "    # while lam < 0.061:\n",
    "    for lam in LAMBDAS:\n",
    "        gc.collect()\n",
    "        # print(f\"fp:{fp}\")\n",
    "        labels = pygco.cut_grid_graph_simple(unary_cost=unary_cost, pairwise_cost=fp * lam, connect=8, algorithm='swap')\n",
    "        labels = labels.reshape(unary_cost.shape[0], unary_cost.shape[1])\n",
    "        labels = labels[:,depth_range:]\n",
    "        mapped_array = ((labels) / (depth_range - 1)) * (255)\n",
    "        # print(f\"labels:{labels}\")\n",
    "        # labels = cv2.bilateralFilter(numpy.float32(labels), 3, 75, 75)\n",
    "        img_path = f\"data/labels{lam}-{STEP}.png\"\n",
    "        labels = cv2.convertScaleAbs(src=labels, alpha=5, beta=0)\n",
    "        cv2.imwrite(img_path, labels)\n",
    "        img_show = matplotlib.image.imread(img_path)\n",
    "        matplotlib.pyplot.title(img_path)\n",
    "        matplotlib.pyplot.imshow(X=img_show, cmap='gray') \n",
    "        matplotlib.pyplot.show()\n",
    "        # lam += 0.001"
   ]
  }
 ],
 "metadata": {
  "kernelspec": {
   "display_name": ".venv",
   "language": "python",
   "name": "python3"
  },
  "language_info": {
   "codemirror_mode": {
    "name": "ipython",
    "version": 3
   },
   "file_extension": ".py",
   "mimetype": "text/x-python",
   "name": "python",
   "nbconvert_exporter": "python",
   "pygments_lexer": "ipython3",
   "version": "3.12.0"
  }
 },
 "nbformat": 4,
 "nbformat_minor": 2
}
