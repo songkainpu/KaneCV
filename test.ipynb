{
 "cells": [
  {
   "cell_type": "code",
   "execution_count": 1,
   "metadata": {},
   "outputs": [
    {
     "name": "stdout",
     "output_type": "stream",
     "text": [
      "len:16\n",
      "group : 0 , pairs : 0   0.005290031433105469\n",
      "len:32\n",
      "group : 0 , pairs : 1   0.03530120849609375\n",
      "len:64\n",
      "group : 0 , pairs : 2   0.34477901458740234\n",
      "len:128\n",
      "group : 0 , pairs : 3   2.1136860847473145\n",
      "len:256\n",
      "group : 0 , pairs : 4   14.74225401878357\n",
      "len:512\n",
      "group : 0 , pairs : 5   120.348069190979\n",
      "len:1024\n"
     ]
    },
    {
     "ename": "KeyboardInterrupt",
     "evalue": "",
     "output_type": "error",
     "traceback": [
      "\u001b[0;31m---------------------------------------------------------------------------\u001b[0m",
      "\u001b[0;31mKeyboardInterrupt\u001b[0m                         Traceback (most recent call last)",
      "\u001b[1;32m/Users/admin/EE5371/CA2/test.ipynb 儲存格 1\u001b[0m line \u001b[0;36m6\n\u001b[1;32m     <a href='vscode-notebook-cell:/Users/admin/EE5371/CA2/test.ipynb#W0sZmlsZQ%3D%3D?line=53'>54</a>\u001b[0m                 \u001b[39m# print(f\"matrix_c:{matrix_c}\")\u001b[39;00m\n\u001b[1;32m     <a href='vscode-notebook-cell:/Users/admin/EE5371/CA2/test.ipynb#W0sZmlsZQ%3D%3D?line=54'>55</a>\u001b[0m                 \u001b[39m# print(f\"direct:{np.dot(matrix_a, matrix_b)}\")\u001b[39;00m\n\u001b[1;32m     <a href='vscode-notebook-cell:/Users/admin/EE5371/CA2/test.ipynb#W0sZmlsZQ%3D%3D?line=55'>56</a>\u001b[0m \n\u001b[0;32m   (...)\u001b[0m\n\u001b[1;32m     <a href='vscode-notebook-cell:/Users/admin/EE5371/CA2/test.ipynb#W0sZmlsZQ%3D%3D?line=60'>61</a>\u001b[0m                 \u001b[39m#     np.mat(loaded_list[i][j][0]), np.mat(loaded_list[i][j][1]))\u001b[39;00m\n\u001b[1;32m     <a href='vscode-notebook-cell:/Users/admin/EE5371/CA2/test.ipynb#W0sZmlsZQ%3D%3D?line=61'>62</a>\u001b[0m                 \u001b[39m# print(result)\u001b[39;00m\n\u001b[1;32m     <a href='vscode-notebook-cell:/Users/admin/EE5371/CA2/test.ipynb#W0sZmlsZQ%3D%3D?line=64'>65</a>\u001b[0m \u001b[39mif\u001b[39;00m \u001b[39m__name__\u001b[39m \u001b[39m==\u001b[39m \u001b[39m\"\u001b[39m\u001b[39m__main__\u001b[39m\u001b[39m\"\u001b[39m:\n\u001b[0;32m---> <a href='vscode-notebook-cell:/Users/admin/EE5371/CA2/test.ipynb#W0sZmlsZQ%3D%3D?line=65'>66</a>\u001b[0m     Calculate()\n",
      "\u001b[1;32m/Users/admin/EE5371/CA2/test.ipynb 儲存格 1\u001b[0m line \u001b[0;36m4\n\u001b[1;32m     <a href='vscode-notebook-cell:/Users/admin/EE5371/CA2/test.ipynb#W0sZmlsZQ%3D%3D?line=43'>44</a>\u001b[0m start_time1 \u001b[39m=\u001b[39m time\u001b[39m.\u001b[39mtime()  \u001b[39m# 记录顺序程序开始时间\u001b[39;00m\n\u001b[1;32m     <a href='vscode-notebook-cell:/Users/admin/EE5371/CA2/test.ipynb#W0sZmlsZQ%3D%3D?line=44'>45</a>\u001b[0m \u001b[39mfor\u001b[39;00m k \u001b[39min\u001b[39;00m \u001b[39mrange\u001b[39m(leng):\n\u001b[0;32m---> <a href='vscode-notebook-cell:/Users/admin/EE5371/CA2/test.ipynb#W0sZmlsZQ%3D%3D?line=45'>46</a>\u001b[0m     sub_matrix_c \u001b[39m=\u001b[39m fox_algorithm(matrix_a, matrix_b, k)\n\u001b[1;32m     <a href='vscode-notebook-cell:/Users/admin/EE5371/CA2/test.ipynb#W0sZmlsZQ%3D%3D?line=46'>47</a>\u001b[0m     \u001b[39m# print(sub_matrix_c)\u001b[39;00m\n\u001b[1;32m     <a href='vscode-notebook-cell:/Users/admin/EE5371/CA2/test.ipynb#W0sZmlsZQ%3D%3D?line=47'>48</a>\u001b[0m     \u001b[39m# print(\"=============================\")\u001b[39;00m\n\u001b[1;32m     <a href='vscode-notebook-cell:/Users/admin/EE5371/CA2/test.ipynb#W0sZmlsZQ%3D%3D?line=48'>49</a>\u001b[0m     matrix_c \u001b[39m+\u001b[39m\u001b[39m=\u001b[39m sub_matrix_c\n",
      "\u001b[1;32m/Users/admin/EE5371/CA2/test.ipynb 儲存格 1\u001b[0m line \u001b[0;36m2\n\u001b[1;32m     <a href='vscode-notebook-cell:/Users/admin/EE5371/CA2/test.ipynb#W0sZmlsZQ%3D%3D?line=25'>26</a>\u001b[0m \u001b[39mfor\u001b[39;00m i \u001b[39min\u001b[39;00m \u001b[39mrange\u001b[39m(\u001b[39mlen\u001b[39m(new_matrix_a)):\n\u001b[1;32m     <a href='vscode-notebook-cell:/Users/admin/EE5371/CA2/test.ipynb#W0sZmlsZQ%3D%3D?line=26'>27</a>\u001b[0m     \u001b[39mfor\u001b[39;00m j \u001b[39min\u001b[39;00m \u001b[39mrange\u001b[39m(\u001b[39mlen\u001b[39m(new_matrix_a)):\n\u001b[0;32m---> <a href='vscode-notebook-cell:/Users/admin/EE5371/CA2/test.ipynb#W0sZmlsZQ%3D%3D?line=27'>28</a>\u001b[0m         sub_matrix_c[i][j] \u001b[39m=\u001b[39m new_matrix_a[i][j] \u001b[39m*\u001b[39m new_matrix_b[i][j]\n\u001b[1;32m     <a href='vscode-notebook-cell:/Users/admin/EE5371/CA2/test.ipynb#W0sZmlsZQ%3D%3D?line=28'>29</a>\u001b[0m \u001b[39mreturn\u001b[39;00m sub_matrix_c\n",
      "\u001b[0;31mKeyboardInterrupt\u001b[0m: "
     ]
    },
    {
     "ename": "",
     "evalue": "",
     "output_type": "error",
     "traceback": [
      "\u001b[1;31m在目前儲存格或上一個儲存格中執行程式碼時，Kernel 已損毀。請檢閱儲存格中的程式碼，找出失敗的可能原因。如需詳細資訊，請按一下<a href='https://aka.ms/vscodeJupyterKernelCrash'>這裡</a>。檢視 Jupyter <a href='command:jupyter.viewOutput'>記錄</a>，以取得進一步的詳細資料。"
     ]
    }
   ],
   "source": [
    "import numpy as np\n",
    "import pickle\n",
    "import time\n",
    "import math\n",
    "\n",
    "\n",
    "def fox_algorithm(matrix_a, matrix_b, num):\n",
    "    leng = int(math.sqrt(matrix_a.size))\n",
    "    # axis=0表示纵向拼接, axis=1表示横向拼接\n",
    "    tmp_a = np.concatenate((matrix_a, matrix_a), axis=1)\n",
    "    tmp_b = np.concatenate((matrix_b, matrix_b), axis=0)\n",
    "    new_matrix_a = np.zeros((leng, leng))\n",
    "    new_matrix_b = np.zeros((leng, leng))\n",
    "    for i in range(leng):\n",
    "        new_matrix_a[i][0: leng] = tmp_a[i][i + num]\n",
    "    # new_matrix_a = np.transpose(new_matrix_a)\n",
    "    for i in range(leng):\n",
    "        new_matrix_b[i] = tmp_b[num: leng + num][i]\n",
    "\n",
    "    # print(new_matrix_a)\n",
    "    # print(\"--------------------------\")\n",
    "    # print(new_matrix_b)\n",
    "    # print(\"--------------------------\")\n",
    "    # sub_matrix_c = np.array(new_matrix_a) * np.array(new_matrix_b)\n",
    "    sub_matrix_c = np.zeros_like(new_matrix_a)\n",
    "    for i in range(len(new_matrix_a)):\n",
    "        for j in range(len(new_matrix_a)):\n",
    "            sub_matrix_c[i][j] = new_matrix_a[i][j] * new_matrix_b[i][j]\n",
    "    return sub_matrix_c\n",
    "\n",
    "\n",
    "def Calculate():\n",
    "    with open('my_list.pkl', 'rb') as file:\n",
    "        loaded_list = pickle.load(file)\n",
    "        # print(len(loaded_list[0][0][0][0]))  矩阵边长大小\n",
    "        for i in range(10):\n",
    "            for j in range(8):\n",
    "                matrix_a = np.array(loaded_list[i][j][0])\n",
    "                matrix_b = np.array(loaded_list[i][j][1])\n",
    "                print(f\"len:{len(matrix_a)}\")\n",
    "                leng = int(math.sqrt(matrix_a.size))\n",
    "\n",
    "                matrix_c = np.zeros((leng, leng))\n",
    "                start_time1 = time.time()  # 记录顺序程序开始时间\n",
    "                for k in range(leng):\n",
    "                    sub_matrix_c = fox_algorithm(matrix_a, matrix_b, k)\n",
    "                    # print(sub_matrix_c)\n",
    "                    # print(\"=============================\")\n",
    "                    matrix_c += sub_matrix_c\n",
    "\n",
    "                end_time1 = time.time()  # 记录顺序程序结束时间\n",
    "                execution_time = end_time1 - start_time1  # 计算顺序程序运行时间\n",
    "                print(\"group :\", i, \", pairs :\", j, \" \", execution_time)\n",
    "                # print(f\"matrix_c:{matrix_c}\")\n",
    "                # print(f\"direct:{np.dot(matrix_a, matrix_b)}\")\n",
    "\n",
    "                # print(matrix_c)\n",
    "                # print(\"**************************\")\n",
    "                # 判断矩阵计算是否正确\n",
    "                # result = np.dot(\n",
    "                #     np.mat(loaded_list[i][j][0]), np.mat(loaded_list[i][j][1]))\n",
    "                # print(result)\n",
    "\n",
    "\n",
    "if __name__ == \"__main__\":\n",
    "    Calculate()"
   ]
  },
  {
   "cell_type": "code",
   "execution_count": null,
   "metadata": {},
   "outputs": [],
   "source": []
  }
 ],
 "metadata": {
  "kernelspec": {
   "display_name": ".venv",
   "language": "python",
   "name": "python3"
  },
  "language_info": {
   "codemirror_mode": {
    "name": "ipython",
    "version": 3
   },
   "file_extension": ".py",
   "mimetype": "text/x-python",
   "name": "python",
   "nbconvert_exporter": "python",
   "pygments_lexer": "ipython3",
   "version": "3.10.13"
  }
 },
 "nbformat": 4,
 "nbformat_minor": 2
}
